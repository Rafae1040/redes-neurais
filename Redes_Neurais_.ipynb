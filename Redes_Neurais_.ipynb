{
  "nbformat": 4,
  "nbformat_minor": 0,
  "metadata": {
    "colab": {
      "provenance": [],
      "authorship_tag": "ABX9TyMnfJ9Tuq0Av0dMj1jaKwIk",
      "include_colab_link": true
    },
    "kernelspec": {
      "name": "python3",
      "display_name": "Python 3"
    },
    "language_info": {
      "name": "python"
    }
  },
  "cells": [
    {
      "cell_type": "markdown",
      "metadata": {
        "id": "view-in-github",
        "colab_type": "text"
      },
      "source": [
        "<a href=\"https://colab.research.google.com/github/Rafae1040/redes-neurais/blob/main/Redes_Neurais_.ipynb\" target=\"_parent\"><img src=\"https://colab.research.google.com/assets/colab-badge.svg\" alt=\"Open In Colab\"/></a>"
      ]
    },
    {
      "cell_type": "code",
      "source": [
        "import cv2\n",
        "import numpy as np\n",
        "\n",
        "# Função para transformar a imagem para níveis de cinza e binarizar\n",
        "def binarizar_imagem(image_path, limiar):\n",
        "    # Carregar a imagem\n",
        "    imagem_colorida = cv2.imread(image_path)\n",
        "\n",
        "    # Converter a imagem para escala de cinza\n",
        "    imagem_cinza = cv2.cvtColor(imagem_colorida, cv2.COLOR_BGR2GRAY)\n",
        "\n",
        "    # Binarizar a imagem com base no limiar fornecido\n",
        "    _, imagem_binarizada = cv2.threshold(imagem_cinza, limiar, 255, cv2.THRESH_BINARY)\n",
        "\n",
        "    return imagem_cinza, imagem_binarizada\n",
        "\n",
        "# Caminho da imagem\n",
        "caminho_imagem = '/content/caminhão-de-entrega-16518558.jpg'  # Substitua pelo caminho real da sua imagem\n",
        "\n",
        "# Limiar para binarização (ajuste conforme necessário)\n",
        "limiar_binarizacao = 128\n",
        "\n",
        "# Obter imagens transformadas\n",
        "imagem_cinza, imagem_binarizada = binarizar_imagem(caminho_imagem, limiar_binarizacao)\n",
        "\n",
        "# Salvar as imagens resultantes\n",
        "cv2.imwrite('imagem_cinza.jpg', imagem_cinza)\n",
        "cv2.imwrite('imagem_binarizada.jpg', imagem_binarizada)\n"
      ],
      "metadata": {
        "colab": {
          "base_uri": "https://localhost:8080/"
        },
        "id": "5KjPIGDpeeLZ",
        "outputId": "c6102155-33c5-40b7-9b18-685baa3a5d04"
      },
      "execution_count": 9,
      "outputs": [
        {
          "output_type": "execute_result",
          "data": {
            "text/plain": [
              "True"
            ]
          },
          "metadata": {},
          "execution_count": 9
        }
      ]
    }
  ]
}